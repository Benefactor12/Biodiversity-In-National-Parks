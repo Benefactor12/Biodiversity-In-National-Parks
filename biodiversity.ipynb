{
 "cells": [
  {
   "cell_type": "markdown",
   "metadata": {},
   "source": [
    "Goal: investigate the dataset about Biodiversity in National Parks.\n",
    "\n",
    "Questions to answer:\n",
    "1. What is the distribution of conservation_status for animals?\n",
    "2. Are certain types of species more likely to be endangered?\n",
    "3. What National Park has the most species in it?\n",
    "4. Which species were spotted the most at each park?"
   ]
  },
  {
   "cell_type": "code",
<<<<<<< HEAD
   "execution_count": 2,
=======
   "execution_count": 5,
>>>>>>> 6d07aba8a1e3f287a6ad8a360c2278e25bd2bd60
   "metadata": {},
   "outputs": [],
   "source": [
    "import pandas as pd\n",
    "import numpy as np\n",
    "import matplotlib.pyplot as plt\n",
    "import seaborn as sns"
   ]
  },
  {
<<<<<<< HEAD
   "cell_type": "markdown",
   "metadata": {},
   "source": [
    "#### species\n",
    "\n",
    "The `species_info.csv` contains information on the different species in the National Parks. The columns in the data set include:\n",
    "- **category** - The category of taxonomy for each species\n",
    "- **scientific_name** - The scientific name of each species\n",
    "- **common_names** - The common names of each species\n",
    "- **conservation_status** - The species conservation status"
   ]
  },
  {
   "cell_type": "code",
   "execution_count": 7,
=======
   "cell_type": "code",
   "execution_count": 6,
>>>>>>> 6d07aba8a1e3f287a6ad8a360c2278e25bd2bd60
   "metadata": {},
   "outputs": [
    {
     "name": "stdout",
     "output_type": "stream",
     "text": [
      "  category                scientific_name  \\\n",
      "0   Mammal  Clethrionomys gapperi gapperi   \n",
      "1   Mammal                      Bos bison   \n",
      "2   Mammal                     Bos taurus   \n",
      "3   Mammal                     Ovis aries   \n",
      "4   Mammal                 Cervus elaphus   \n",
      "\n",
      "                                        common_names conservation_status  \n",
      "0                           Gapper's Red-Backed Vole                 NaN  \n",
      "1                              American Bison, Bison                 NaN  \n",
      "2  Aurochs, Aurochs, Domestic Cattle (Feral), Dom...                 NaN  \n",
      "3  Domestic Sheep, Mouflon, Red Sheep, Sheep (Feral)                 NaN  \n",
      "4                                      Wapiti Or Elk                 NaN  \n",
      "\n",
      "Index(['category', 'scientific_name', 'common_names', 'conservation_status'], dtype='object')\n",
      "\n",
      "<class 'pandas.core.frame.DataFrame'>\n",
      "RangeIndex: 5824 entries, 0 to 5823\n",
      "Data columns (total 4 columns):\n",
      " #   Column               Non-Null Count  Dtype \n",
      "---  ------               --------------  ----- \n",
      " 0   category             5824 non-null   object\n",
      " 1   scientific_name      5824 non-null   object\n",
      " 2   common_names         5824 non-null   object\n",
      " 3   conservation_status  191 non-null    object\n",
      "dtypes: object(4)\n",
      "memory usage: 182.1+ KB\n",
      "None\n",
      "\n",
      "              category    scientific_name        common_names  \\\n",
      "count             5824               5824                5824   \n",
      "unique               7               5541                5504   \n",
      "top     Vascular Plant  Castor canadensis  Brachythecium Moss   \n",
      "freq              4470                  3                   7   \n",
      "\n",
      "       conservation_status  \n",
      "count                  191  \n",
      "unique                   4  \n",
      "top     Species of Concern  \n",
      "freq                   161  \n",
      "\n",
      "category                  0\n",
      "scientific_name           0\n",
      "common_names              0\n",
      "conservation_status    5633\n",
      "dtype: int64\n",
      "\n",
      "[nan 'Species of Concern' 'Endangered' 'Threatened' 'In Recovery']\n"
     ]
    }
   ],
   "source": [
    "species = pd.read_csv('species_info.csv')\n",
    "\n",
    "print(species.head())\n",
    "print()\n",
    "print(species.columns)\n",
    "print()\n",
    "print(species.info())\n",
    "print()\n",
    "print(species.describe(include='all'))\n",
    "print()\n",
    "print(species.isna().sum())\n",
    "print()\n",
    "print(species.conservation_status.unique())"
   ]
  },
  {
<<<<<<< HEAD
   "cell_type": "markdown",
   "metadata": {},
   "source": [
    "#### observations\n",
    "\n",
    "The `observations.csv` contains information from recorded sightings of different species throughout the national parks in the past 7 days. The columns included are:\n",
    "\n",
    "- **scientific_name** - The scientific name of each species\n",
    "- **park_name** - The name of the national park\n",
    "- **observations** - The number of observations in the past 7 days"
   ]
  },
  {
   "cell_type": "code",
   "execution_count": 8,
=======
   "cell_type": "code",
   "execution_count": 7,
>>>>>>> 6d07aba8a1e3f287a6ad8a360c2278e25bd2bd60
   "metadata": {},
   "outputs": [
    {
     "name": "stdout",
     "output_type": "stream",
     "text": [
      "            scientific_name                            park_name  observations\n",
      "0        Vicia benghalensis  Great Smoky Mountains National Park            68\n",
      "1            Neovison vison  Great Smoky Mountains National Park            77\n",
      "2         Prunus subcordata               Yosemite National Park           138\n",
      "3      Abutilon theophrasti                  Bryce National Park            84\n",
      "4  Githopsis specularioides  Great Smoky Mountains National Park            85\n",
      "\n",
      "Index(['scientific_name', 'park_name', 'observations'], dtype='object')\n",
      "\n",
      "<class 'pandas.core.frame.DataFrame'>\n",
      "RangeIndex: 23296 entries, 0 to 23295\n",
      "Data columns (total 3 columns):\n",
      " #   Column           Non-Null Count  Dtype \n",
      "---  ------           --------------  ----- \n",
      " 0   scientific_name  23296 non-null  object\n",
      " 1   park_name        23296 non-null  object\n",
      " 2   observations     23296 non-null  int64 \n",
      "dtypes: int64(1), object(2)\n",
      "memory usage: 546.1+ KB\n",
      "None\n",
      "\n",
      "         scientific_name                            park_name  observations\n",
      "count              23296                                23296  23296.000000\n",
      "unique              5541                                    4           NaN\n",
      "top     Myotis lucifugus  Great Smoky Mountains National Park           NaN\n",
      "freq                  12                                 5824           NaN\n",
      "mean                 NaN                                  NaN    142.287904\n",
      "std                  NaN                                  NaN     69.890532\n",
      "min                  NaN                                  NaN      9.000000\n",
      "25%                  NaN                                  NaN     86.000000\n",
      "50%                  NaN                                  NaN    124.000000\n",
      "75%                  NaN                                  NaN    195.000000\n",
      "max                  NaN                                  NaN    321.000000\n",
      "\n",
      "scientific_name    0\n",
      "park_name          0\n",
      "observations       0\n",
      "dtype: int64\n"
     ]
    }
   ],
   "source": [
    "df_observations = pd.read_csv('observations.csv')\n",
    "\n",
    "print(df_observations.head())\n",
    "print()\n",
    "print(df_observations.columns)\n",
    "print()\n",
    "print(df_observations.info())\n",
    "print()\n",
    "print(df_observations.describe(include='all'))\n",
    "print()\n",
    "print(df_observations.isna().sum())"
   ]
  },
  {
   "cell_type": "markdown",
   "metadata": {},
   "source": [
    "1. What is the distribution of conservation_status for animals?"
   ]
  },
  {
   "cell_type": "code",
<<<<<<< HEAD
   "execution_count": 9,
=======
   "execution_count": 8,
>>>>>>> 6d07aba8a1e3f287a6ad8a360c2278e25bd2bd60
   "metadata": {},
   "outputs": [
    {
     "data": {
      "image/png": "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\n",
      "text/plain": [
       "<Figure size 432x288 with 1 Axes>"
      ]
     },
     "metadata": {
      "needs_background": "light"
     },
     "output_type": "display_data"
    },
    {
     "name": "stdout",
     "output_type": "stream",
     "text": [
      "Species of Concern    161\n",
      "Endangered             16\n",
      "Threatened             10\n",
      "In Recovery             4\n",
      "Name: conservation_status, dtype: int64\n"
     ]
    }
   ],
   "source": [
    "species_no_nan = species.dropna()\n",
    "sns.countplot(x='conservation_status', data=species_no_nan)\n",
    "plt.show()\n",
    "print(species_no_nan.conservation_status.value_counts())"
   ]
  },
  {
   "cell_type": "markdown",
   "metadata": {},
   "source": [
    "2. Are certain types of species more likely to be endangered?"
   ]
  },
  {
   "cell_type": "code",
<<<<<<< HEAD
   "execution_count": 10,
=======
   "execution_count": 9,
>>>>>>> 6d07aba8a1e3f287a6ad8a360c2278e25bd2bd60
   "metadata": {},
   "outputs": [
    {
     "data": {
      "image/png": "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\n",
      "text/plain": [
       "<Figure size 432x288 with 1 Axes>"
      ]
     },
     "metadata": {
      "needs_background": "light"
     },
     "output_type": "display_data"
    }
   ],
   "source": [
    "endangered = species_no_nan[species_no_nan.conservation_status == 'Endangered']\n",
    "sns.countplot(x='category', data=endangered)\n",
    "plt.show()"
   ]
  },
  {
   "cell_type": "markdown",
   "metadata": {},
   "source": [
    "3. What National Park has the most species in it?"
   ]
  },
  {
   "cell_type": "code",
<<<<<<< HEAD
   "execution_count": 11,
=======
   "execution_count": 24,
>>>>>>> 6d07aba8a1e3f287a6ad8a360c2278e25bd2bd60
   "metadata": {},
   "outputs": [
    {
     "data": {
      "image/png": "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\n",
      "text/plain": [
       "<Figure size 720x360 with 1 Axes>"
      ]
     },
     "metadata": {
      "needs_background": "light"
     },
     "output_type": "display_data"
    }
   ],
   "source": [
    "plt.figure(figsize=(10,5))\n",
    "sns.countplot(x='park_name', data=df_observations)\n",
    "plt.xticks(rotation=10)\n",
    "plt.show()"
   ]
  },
  {
   "cell_type": "markdown",
   "metadata": {},
   "source": [
    "4. Which species were spotted the most at each park?"
   ]
  },
  {
   "cell_type": "code",
<<<<<<< HEAD
   "execution_count": 12,
=======
   "execution_count": 11,
>>>>>>> 6d07aba8a1e3f287a6ad8a360c2278e25bd2bd60
   "metadata": {},
   "outputs": [
    {
     "name": "stdout",
     "output_type": "stream",
     "text": [
      "Sonchus asper ssp. asper\n",
      "[147, 223, 176, 321]\n"
     ]
    },
    {
     "data": {
      "image/png": "iVBORw0KGgoAAAANSUhEUgAAAlYAAAIcCAYAAAA0ZuAVAAAAOXRFWHRTb2Z0d2FyZQBNYXRwbG90bGliIHZlcnNpb24zLjQuMywgaHR0cHM6Ly9tYXRwbG90bGliLm9yZy/MnkTPAAAACXBIWXMAAAsTAAALEwEAmpwYAABc0ElEQVR4nO3de5yWc/7H8ddnOkuoxLaKsqI0M03nlKyEQoVsSpFYh0WylpJDjpvVatVmWVs/KYRyKLFYIsfSiZGOKiUpFbZURIfP74/vdd97zzTNlK7mUO/n49Gjua/7uq77OzPX3Pf7+h7N3RERERGRPZdW1AUQERER2VcoWImIiIjERMFKREREJCYKViIiIiIxUbASERERiYmClYiIiEhMShd1AQAOPfRQr1WrVlEXQ0RERKRAs2bN+sbdq+X1XLEIVrVq1WLmzJlFXQwRERGRApnZFzt7Tk2BIiIiIjFRsBIRERGJiYKViIiISEyKRR+rvGzZsoUVK1awefPmoi6KyH6nfPny1KhRgzJlyhR1UURESpRiG6xWrFhBpUqVqFWrFmZW1MUR2W+4O99++y0rVqygdu3aRV0cEZESpdg2BW7evJmqVasqVIkUMjOjatWqqi0WEfkFim2wAhSqRIqI/vZERH6ZYh2sitrq1avp3r07Rx99NI0bN+aEE05g/PjxsZx72bJlPPXUU3k+t337dvr06UN6ejoZGRk0bdqUpUuX7vFrjho1it69e/+iY2vVqkXr1q1zbMvKyiI9PX2Py5XbhAkTmDdvXoH7PfLIIzz++ON7/Hq1atXivPPOSz5+7rnn6NWrV77HZGdn88orryQfT5w4kfvuu2+Py5LbgQcemOf2UqVKJX/+Xbp04Ycfftjlc+7JdSAiIvkrtn2scmvcd88/QFPNur9nvs+7O+eccw4XX3xxMgB98cUXTJw4cYd9t27dSunSu/ejTASr7t277/Dc2LFjWblyJbNnzyYtLY0VK1ZQsWLF3Tr/3rBhwwa+/PJLatasyfz58/fa60yYMIEOHTpw/PHH57vfH/7wh9hec+bMmcydO5f69evv0v7Z2dnMnDmTM888E4BOnTrRqVOn2MpTkAoVKpCdnQ1Ajx49eOSRR/jTn/5U4HFbt27dyyUTEdm/qcZqJ9566y3Kli2b48P7qKOO4tprrwXCXX+XLl3o2LEjp59+Ops2beLSSy+ladOmNGzYkBdffBEIAap169Y0atSIRo0aMWXKFAD69+/Pe++9R1ZWFkOGDMnx2qtWraJ69eqkpYVfT40aNahcuTIQajBuuukmGjduzKmnnsr06dM5+eSTOfroo5Ohb/PmzVxyySVkZGTQsGFDJk+evMP39+9//5sTTjiBQYMGcf311ye3jxgxYqcf0Oeffz5jx44F4Omnn+aCCy5IPrez18xdO9KhQwfefvvt5Pdy66230qBBA1q0aMHq1auZMmUKEydOpG/fvmRlZbFkyRJGjBhB06ZNadCgAeedd16ydubOO+9k8ODBAJx88sncdNNNNGvWjGOPPZb33nsPgLlz59KsWTOysrLIzMxk0aJFeX5vN954I/fee+8O26dPn07Lli1p2LAhLVu2ZOHChfz888/cfvvtjB07lqysLMaOHZvj+/ziiy9o27YtmZmZtG3bluXLlwPQq1cv+vTpQ8uWLTn66KN57rnnANi4cSNt27alUaNGZGRkJK+dXdW6dWsWL17MSy+9RPPmzWnYsCGnnnoqq1evTv6crrjiCk4//XR69sx5Q5G4Dr755pvdek0REcmbgtVOzJ07l0aNGuW7z9SpUxk9ejRvvfUWAwcO5JRTTmHGjBlMnjyZvn37smnTJg477DDeeOMNPvroI8aOHUufPn0AuO+++2jdujXZ2dk5gg2EAPPSSy+RlZXFDTfcwMcff5x8btOmTZx88snMmjWLSpUqcdttt/HGG28wfvx4br/9dgAeeughAD799FOefvppLr744hwdkcePH899993HK6+8Qu/evZk4cSJbtmwB4LHHHuOSSy7J8/v93e9+xwsvvADASy+9RMeOHZPPFfSaedm0aRMtWrTgk08+4aSTTmLEiBG0bNmSTp06cf/995Odnc1vfvMbOnfuzIwZM/jkk0+oV68ejz76aJ7n27p1K9OnT2fo0KHcddddQGguvO6665I1TDVq1Mjz2PPPP5+PPvqIxYsX59het25d3n33XT7++GPuvvtubrnlFsqWLcvdd99N165dyc7OpmvXrjmO6d27Nz179mT27Nn06NEj+TuHEJrff/99Xn75Zfr37w+EqQ3Gjx/PRx99xOTJk7nhhhtw93x/dqnf86uvvkpGRgYnnngiH374IR9//DHdunXjr3/9a3K/WbNm8eKLL+Zofk69Dg499NBdej0REclfiWkKLGrXXHMN77//PmXLlmXGjBkAnHbaaVSpUgWA119/nYkTJyZrUDZv3szy5cv59a9/Te/evcnOzqZUqVJ89tlnBb5WjRo1WLhwIW+99RZvvfUWbdu25dlnn6Vt27aULVuW9u3bA5CRkUG5cuUoU6YMGRkZLFu2DID3338/WbNWt25djjrqqOTrTp48mZkzZ/L6669z0EEHAXDKKafw8ssvU69ePbZs2UJGRkae5apSpQqVK1fmmWeeoV69ehxwwAHJ5/J7zZ0pW7YsHTp0AKBx48a88cYbee43Z84cbrvtNtatW8fGjRtp165dnvt17tw5ea7Ez+KEE05g4MCBrFixgs6dO1OnTp08jy1VqhR9+/blL3/5C2eccUZy+/r167n44otZtGgRZpYMoPmZOnVqMoBedNFF9OvXL/ncOeecQ1paGscff3yyRsndueWWW3j33XdJS0vjq6++YvXq1fzqV7/a6Wv8+OOPZGVlAaHG6ve//z0LFy6ka9eurFq1ip9//jnHVAmdOnWiQoUKycd5XQciIrLnVGO1E/Xr1+ejjz5KPn7ooYd48803Wbt2bXJbar8nd+f5558nOzub7Oxsli9fTr169RgyZAiHH344n3zyCTNnzuTnn3/epdcvV64cZ5xxBvfffz+33HILEyZMAKBMmTLJEVtpaWmUK1cu+XWi/0x+tR1HH300GzZsyBF6LrvsMkaNGpVvbVVC165dueaaa3I0A+b3mqVLl2b79u3Jx6m1WKnfS6lSpXba/6dXr1784x//4NNPP+WOO+7YaU1Y4meReq7u3bszceJEKlSoQLt27Xjrrbd2+r1ddNFFvPvuu8mmO4ABAwbQpk0b5syZw0svvfSLpiBIHWGXKCP872c2ZswY1q5dy6xZs8jOzubwww8v8HUSfayys7N58MEHKVu2LNdeey29e/fm008/5V//+leOc+Tuo5fXdSAiIntOwWonTjnlFDZv3sw///nP5Lb8Rl61a9eOBx98MPlhmWi+W79+fbK/1BNPPMG2bdsAqFSpEhs2bMjzXB999BErV64EwgjB2bNnc9RRR+1y2U866STGjBkDwGeffcby5cs57rjjgNBP7IUXXqBnz57MnTsXgObNm/Pll1/y1FNP7RCYcjv33HPp16/fDrVGO3vNWrVqkZ2dzfbt2/nyyy+ZPn16geXP/bPZsGED1atXZ8uWLcnX2FWff/45Rx99NH369KFTp07Mnj17p/uWKVOG66+/nqFDhya3rV+/niOOOAII/cV2VsZULVu25JlnngFCaDrxxBPzLeP69es57LDDKFOmDJMnT+aLL3a6aHqB50mUdfTo0fnum9d1ICIie07BaifMjAkTJvDOO+9Qu3ZtmjVrxsUXX8ygQYPy3H/AgAFs2bKFzMxM0tPTGTBgAABXX301o0ePpkWLFnz22WfJmoPMzExKly5NgwYNdui8vmbNGjp27Eh6enpyv90ZHn/11Vezbds2MjIy6Nq1K6NGjcpRU3LccccxZswYunTpwpIlS4DQx6hVq1bJTvI7U6lSJW666SbKli27S6/ZqlUrateuTUZGBjfeeGOB/dYAunXrxv3330/Dhg1ZsmQJ99xzD82bN+e0006jbt26u/xzgDDCMj09naysLBYsWLBD5+3cfv/73+eoOevXrx8333wzrVq1SoZigDZt2jBv3rxk5/VUw4YN47HHHiMzM5MnnniCv//97/m+Zo8ePZg5cyZNmjRhzJgxu/09Jtx555106dKF1q1b71KfqbyuAxER2TO2q51k96YmTZr4zJkzc2ybP38+9erVK6IS7X86dOjA9ddfT9u2bYu6KFJM6G9QRCRvZjbL3Zvk9ZxqrPZz69at49hjj6VChQoKVSIiIntIowL3c4cccog6MIuIiMRENVYiIiIiMVGNlYiIiBQL75z020J9vd+++07s51SNlYiIiEhMFKxEREREYqJgtRPuzoknnsirr76a3DZu3LjkcjJ728SJE7nvvvsAmDBhAvPmzdut40eNGkVaWlqOCTHT09OTS73szNChQ3NMhHrmmWeybt263XrtgqQunpx7+xFHHEFWVhbp6enJRaV3Va1atbSYsIiIFKkS08dq+d15r1/3Sx15+6f5Pm9mPPLII3Tp0oU2bdqwbds2br31Vl577bVYy7EznTp1olOnTkAIVh06dOD444/frXPUqFGDgQMH7jCBZX6GDh3KhRdemFwH8JVXXtmt19xT119/PTfeeCPz58+ndevWrFmzhrS0gvN/6uSdIiIiRUU1VvlIT0+nY8eODBo0iLvuuosLL7yQG264gczMTFq0aJGsDXrnnXfIysoiKyuLhg0bJpc6uf/++2natCmZmZnccccdACxbtoy6dety2WWXkZ6eTo8ePZg0aRKtWrWiTp06ySVfRo0aRe/evZkyZQoTJ06kb9++ZGVlsWTJEpYsWUL79u1p3LgxrVu3ZsGCBXmWv0OHDsydO5eFCxfu8NxVV11FkyZNqF+/frJsw4YNY+XKlbRp04Y2bdoAOWuBHnjgAdLT00lPT08u+7Js2TLq1avH5ZdfTv369Tn99NP58ccfARgxYgRNmzalQYMGnHfeefkuCZRbvXr1KF26NN988w3nnHMOjRs3pn79+gwfPjy5z4EHHsjtt99O8+bNmTp1anL7jz/+SPv27RkxYsQuv56IiEgcFKwKcMcdd/DUU0/x6quv8vXXX9OwYUNmz57Nvffem1weZfDgwTz00ENkZ2fz3nvvUaFCBV5//XUWLVrE9OnTyc7OZtasWbz77rsALF68mOuuu47Zs2ezYMECnnrqKd5//30GDx7Mvffem+P1W7ZsSadOnbj//vvJzs7mN7/5DVdccQUPPvggs2bNYvDgwVx99dV5lj0tLY1+/frtcE6AgQMHMnPmTGbPns0777zD7Nmz6dOnD7/+9a+ZPHkykydPzrH/rFmzeOyxx5g2bRoffvghI0aMSK6HuGjRIq655hrmzp3LIYccwvPPPw9A586dmTFjBp988gn16tXj0Ucf3eWf+7Rp00hLS6NatWqMHDmSWbNmMXPmTIYNG8a3334LwKZNm0hPT2fatGnJ9fg2btxIx44d6d69O5dffvkuv56IiEgcSkxTYFGpWLEiXbt25cADD+Tpp59OhoZTTjmFb7/9lvXr19OqVSv+9Kc/0aNHDzp37kyNGjV4/fXXef3112nYsCEQPvAXLVrEkUcemVw7D6B+/fq0bdsWMyMjI6PAPlAbN25kypQpdOnSJbntp59+2un+3bt3Z+DAgSxdujTH9nHjxjF8+HC2bt3KqlWrmDdvHpmZmTs9z/vvv8+5556bXOuwc+fOvPfee3Tq1InatWuTlZUFQOPGjZPfw5w5c7jttttYt24dGzdu3GHh5rwMGTKEJ598kkqVKjF27FjMjGHDhjF+/HgAvvzySxYtWkTVqlUpVaoU5513Xo7jzz77bPr160ePHj0KfC0REZG4KVjtgrS0NNLS0shrXUUzo3///px11lm88sortGjRgkmTJuHu3HzzzVx55ZU59l+2bFmOBZHT0tKSj9PS0nIsAJyX7du3c8ghh5Cdnb1LZS9dujQ33HBDjsWjly5dyuDBg5kxYwaVK1emV69ebN68Od/z5LemZOr3U6pUqWRTYK9evZgwYQINGjRg1KhRvP322wWWN9HHKuHtt99m0qRJTJ06lQMOOICTTz45Wdby5ctTqlSpHMe3atWKV199le7du2NmBb6eiIhInNQUuBtOOukkxowZA4QP/EMPPZSDDjqIJUuWkJGRwU033USTJk1YsGAB7dq1Y+TIkWzcuBGAr776ijVr1vyi161UqVKy39ZBBx1E7dq1efbZZ4EQeD755JN8j+/VqxeTJk1i7dq1AHz//fdUrFiRgw8+mNWrV+cY+Zj6Wrm/9wkTJvDDDz+wadMmxo8fT+vWrfN93Q0bNlC9enW2bNmS/LntrvXr11O5cmUOOOAAFixYwIcffpjv/nfffTdVq1bdafOoiIjI3qRgtRvuvPNOZs6cSWZmJv3792f06NFAGEmXnp5OgwYNqFChAmeccQann3463bt354QTTiAjI4Pf/e53eQaWXdGtWzfuv/9+GjZsyJIlSxgzZgyPPvooDRo0oH79+rz44ov5Hl+2bFn69OmTDHYNGjSgYcOG1K9fn0svvZRWrVol973iiis444wzkp3XExo1akSvXr1o1qwZzZs357LLLks2c+7MPffcQ/PmzTnttNOoW7fuL/re27dvz9atW8nMzGTAgAG0aNGiwGOGDh3K5s2b6dev3y96TRERkV/K8mviKSxNmjTxmTNn5tg2f/586tWrV0QlEhH9DYpIYSspS9qY2Sx3b5LXc6qxEhEREYmJgpWIiIhITBSsRERERGKiYCUiIiISEwUrERERkZgoWImIiIjERMEqH6VKlSIrK4sGDRrQqFEjpkyZUmivPWrUKNLS0pILPUNYFLqgJW+GDh2aY7HjM888k3Xr1sVatjvvvJPBgwfnuf2II44gKyuL9PR0Jk6cuFvnTV3wWUREpCQqMUvatHqwVcE77YYPrv2gwH0qVKiQXDrmP//5DzfffDPvvJNzzott27btsKxKXGrUqMHAgQMZO3bsLh8zdOhQLrzwQg444AAAXnnllb1Stp1JLEkzf/58WrduzZo1a0hLKzi/b9u2rRBKJyIisnepxmoXff/991SuXBkIy9m0adOG7t27k5GRwYABA/j73/+e3PfWW29l2LBhAPz1r38lIyODBg0a0L9/fwCWLFlC+/btady4Ma1bt2bBggV5vmaHDh2YO3cuCxcu3OG5q666iiZNmlC/fn3uuOMOAIYNG8bKlStp06ZNcub01FqgBx54gPT0dNLT0xk6dCgQ1i6sV68el19+OfXr1+f0009PrvU3YsQImjZtSoMGDTjvvPNy1IQVpF69epQuXZpvvvmGc845h8aNG1O/fn2GDx+e3OfAAw/k9ttvp3nz5kydOjW5/ccff6R9+/aMGDFil19PRESkOCgxNVZF4ccffyQrK4vNmzezatUq3nrrreRz06dPZ86cOdSuXZtly5bRuXNnrrvuOrZv384zzzzD9OnTefXVV5kwYQLTpk3jgAMO4LvvvgPCsjGPPPIIderUYdq0aVx99dU5zp2QlpZGv379uPfee5PL5yQMHDiQKlWqsG3bNtq2bcvs2bPp06cPDzzwAJMnT+bQQw/Nsf+sWbN47LHHmDZtGu5O8+bN+e1vf0vlypVZtGgRTz/9NCNGjOD888/n+eef58ILL6Rz585cfvnlANx22208+uijXHvttbv0s5s2bRppaWlUq1aNkSNHUqVKFX788UeaNm3KeeedR9WqVdm0aRPp6encfffdyeM2btxIt27d6NmzJz179ty1X5SIiEgxoWCVj9SmwKlTp9KzZ0/mzJkDQLNmzahduzYQaoWqVq3Kxx9/zOrVq2nYsCFVq1Zl0qRJXHLJJclmuSpVqrBx40amTJlCly5dkq/z008/7bQM3bt3Z+DAgSxdujTH9nHjxjF8+HC2bt3KqlWrmDdvHpmZmTs9z/vvv8+5555LxYoVAejcuTPvvfcenTp1onbt2mRlZQHQuHHjZD+uOXPmcNttt7Fu3To2btxIu3btCvyZDRkyhCeffJJKlSoxduxYzIxhw4Yxfvx4AL788ksWLVpE1apVKVWqFOedd16O488++2z69etHjx49CnwtERGR4qbAYGVm5YF3gXLR/s+5+x1mVgUYC9QClgHnu/t/o2NuBn4PbAP6uPt/9krpC9EJJ5zAN998w9q1awGSASXhsssuY9SoUXz99ddceumlALg7ZpZjv+3bt3PIIYckA1tBSpcuzQ033MCgQYOS25YuXcrgwYOZMWMGlStXplevXmzevDnf8+S3JmS5cuWSX5cqVSrZFNirVy8mTJhAgwYNGDVqFG+//XaB5U30sUp4++23mTRpElOnTuWAAw7g5JNPTpa1fPnyO/RPa9WqFa+++irdu3ff4WcnIiJS3O1KH6ufgFPcvQGQBbQ3sxZAf+BNd68DvBk9xsyOB7oB9YH2wMNmtnd6dxeiBQsWsG3bNqpWrZrn8+eeey6vvfYaM2bMSNbsnH766YwcOTLZN+m7777joIMOonbt2jz77LNACDyffPJJvq/dq1cvJk2alAx133//PRUrVuTggw9m9erVvPrqq8l9K1WqxIYNG3Y4x0knncSECRP44Ycf2LRpE+PHj6d169b5vu6GDRuoXr06W7ZsYcyYMfnuuzPr16+ncuXKHHDAASxYsIAPP/ww3/3vvvtuqlatytVXX/2LXk9ERKQoFRisPNgYPSwT/XPgbCDR8Wc0cE709dnAM+7+k7svBRYDzeIsdGFJ9LHKysqia9eujB49eqcjAMuWLUubNm04//zzk/u0b9+eTp060aRJE7KyspJTFIwZM4ZHH32UBg0aUL9+fV588cV8y1G2bFn69OnDmjVrAGjQoAENGzakfv36XHrppbRq9b8Rk1dccQVnnHFGsvN6QqNGjejVqxfNmjWjefPmXHbZZTRs2DDf173nnnto3rw5p512GnXr1s3/h7UT7du3Z+vWrWRmZjJgwABatGhR4DFDhw5l8+bN9OvX7xe9poiISFGx/JqIkjuFGqdZwDHAQ+5+k5mtc/dDUvb5r7tXNrN/AB+6+5PR9keBV939uZ2dv0mTJj5z5swc2+bPn0+9evV+yfdUJLZv306jRo149tlnqVOnTlEXR2SPlbS/QREp+d456beF+nq/ffedgnfKg5nNcvcmeT23S9MtuPs2d88CagDNzCw9v9fL6xR5FOoKM5tpZjMTTVwl1bx58zjmmGNo27atQpWIiMh+bLdGBbr7OjN7m9B3arWZVXf3VWZWHVgT7bYCqJlyWA1gZR7nGg4Mh1Bj9QvKXmwcf/zxfP7550VdDBERESliBdZYmVk1Mzsk+roCcCqwAJgIXBztdjGQ6Cg0EehmZuXMrDZQB5gec7lFREREip1dqbGqDoyO+lmlAePc/WUzmwqMM7PfA8uBLgDuPtfMxgHzgK3ANe6u9UpERERkn1dgsHL32cAOw8fc/Vug7U6OGQgM3OPSiYiIiJQgWitQREREJCYKVjvh7px44ok5Jt8cN24c7du332Hft99+mw4dOgAwatQoevfuHXt5li1bxlNPPRX7eXPr1asXRxxxRHKZnW+++YZatWrle8y6det4+OGHk49XrlzJ7373u9jLdvLJJ5N7Wo7E9uOOO44GDRrQqlWrPBet3plly5aRnp7fIFcREZFdV2LWCox7bouC5q4wMx555BG6dOlCmzZt2LZtG7feeiuvvfZarOXYVYlg1b17973+WqVKlWLkyJFcddVVu7R/IlglZkv/9a9/zXPP7XTasr1izJgxNGnShOHDh9O3b18mTpxY4DHbtqnrn4iIxEs1VvlIT0+nY8eODBo0iLvuuosLL7yQgQMH0rRpUxo2bFjgjOlffPEFbdu2JTMzk7Zt27J8+XK2bdvG0Ucfjbuzbt060tLSePfddwFo3bo1ixcv5p133knO+N6wYUM2bNhA//79ee+998jKymLIkCFs3ryZSy65hIyMDBo2bMjkyZOBUGPWuXNn2rdvT506dXLMXv76669zwgkn0KhRI7p06cLGjRvzLPcf//hHhgwZwtatW3Ns37hxI23btqVRo0ZkZGQkv//+/fuzZMkSsrKy6Nu3b45aoF9SzquuuoomTZpQv3597rjjjt35lXHSSSexePFili1bRuvWrWnUqBGNGjViypQpQKhdbNOmDd27dycjIyPHsZ9//jkNGzZkxowZu/WaIiIiCSWmxqqo3HHHHTRq1IiyZcvSoUMHTjnlFEaOHMm6deto1qwZp5566k6P7d27Nz179uTiiy9m5MiR9OnThwkTJnDssccyb948li5dSuPGjXnvvfdo3rw5K1as4JhjjuH666/noYceolWrVmzcuJHy5ctz3333MXjwYF5++WUA/va3vwHw6aefsmDBAk4//XQ+++wzALKzs/n4448pV64cxx13HNdeey0VKlTgz3/+M5MmTaJixYoMGjSIBx54gNtvv32Hch955JGceOKJPPHEE3Ts2DG5vXz58owfP56DDjqIb775hhYtWtCpUyfuu+8+5syZk1xYetmyZcljHnrood0qZ82aNRk4cCBVqlRh27ZttG3bltmzZ5OZmblLv6+XXnqJjIwMDjvsMN544w3Kly/PokWLuOCCC5LNiNOnT2fOnDnUrl07WdaFCxfSrVs3HnvsMbKysnbptURERHJTsCpAxYoV6dq1KwceeCDjxo3jpZdeSq75t3nzZpYvX77TY6dOncoLL7wAwEUXXZSslWndujXvvvsuS5cu5eabb2bEiBH89re/pWnTpgC0atWKP/3pT/To0YPOnTtTo0aNHc79/vvvc+211wJQt25djjrqqGRgadu2LQcffDAQJi/94osvWLduHfPmzUuuK/jzzz9zwgkn7LTst9xyC506deKss85KbnN3brnlFt59913S0tL46quvWL16db4/v90tZ82aNRk3bhzDhw9n69atrFq1innz5hUYrHr06EGFChWoVasWDz74IFu2bKF3795kZ2dTqlSp5GsCNGvWjNq1aycfr127lrPPPpvnn3+e+vXr5/s6IiIi+VGw2gVpaWmkpaXh7jz//PMcd9xxOZ4vKFwkmIXVflq3bs0jjzzCypUrufvuu7n//vt5++23Oemkk4DQtHbWWWfxyiuv0KJFCyZNmrTDufJb47FcuXLJr0uVKsXWrVtxd0477TSefvrpXSrrMcccQ1ZWFuPGjUtuGzNmDGvXrmXWrFmUKVOGWrVqsXnz5nzPs7vlXLp0KYMHD2bGjBlUrlyZXr16FfgaibI1afK/ZZvuvPNODj/8cD755BO2b99O+fLlk89VrFgxx7EHH3wwNWvW5IMPPlCwEhGRPaI+VruhXbt2PPjgg8mw8PHHH+e7f8uWLXnmmWeA8MF/4oknAtC8eXOmTJlCWloa5cuXJysri3/961+0bt0agCVLlpCRkcFNN91EkyZNWLBgAZUqVWLDhg3Jc5900kmMGTMGgM8++4zly5fvEPhStWjRgg8++IDFixcD8MMPP+SoxcnLrbfemqydA1i/fj2HHXYYZcqUYfLkyXzxxRcAO5Qt1e6W8/vvv6dixYocfPDBrF69OseozN2xfv16qlevTlpaGk888US+HdXLli3LhAkTePzxxwtl5KWIiOy7FKx2w4ABA9iyZQuZmZmkp6czYMCAfPcfNmwYjz32GJmZmTzxxBP8/e9/B0JNTc2aNWnRogUQarA2bNiQ7Ew9dOhQ0tPTadCgARUqVOCMM84gMzOT0qVL06BBA4YMGcLVV1/Ntm3byMjIoGvXrowaNSpHDVBu1apVY9SoUVxwwQVkZmbSokULFixYkG/569evT6NGjZKPe/TowcyZM2nSpAljxoyhbt26AFStWpVWrVqRnp5O3759c5xjd8vZoEEDGjZsSP369bn00kuTTZe76+qrr2b06NG0aNGCzz77bIdaqtwqVqzIyy+/zJAhQwoclCAiIrIzll9TTWFp0qSJ556faP78+dSrV6+ISiQi+hsUkcIW99RKBSlo6qWdMbNZ7t4kr+dUYyUiIiISEwUrERERkZgoWImIiIjEpFgHq+LQ/0tkf6S/PRGRX6bYBqvy5cvz7bff6g1epJC5O99++22Oub9ERGTXFNsJQmvUqMGKFStYu3ZtURdFZL9Tvnz5PGf8FxGR/BXbYFWmTJkcy46IiIiIFHfFtilQREREpKRRsBIRERGJiYKViIiISEwUrERERERiomAlIiIiEhMFKxEREZGYKFiJiIiIxETBSkRERCQmClYiIiIiMVGwEhEREYmJgpWIiIhITBSsRERERGKiYCUiIiISEwUrERERkZgoWImIiIjERMFKREREJCYKViIiIiIxUbASERERiYmClYiIiEhMFKxEREREYqJgJSIiIhITBSsRERGRmChYiYiIiMREwUpEREQkJgpWIiIiIjFRsBIRERGJiYKViIiISEwUrERERERiomAlIiIiEhMFKxEREZGYKFiJiIiIxETBSkRERCQmClYiIiIiMVGwEhEREYmJgpWIiIhITBSsRERERGKiYCUiIiISEwUrERERkZgoWImIiIjEpMBgZWY1zWyymc03s7lmdl20/U4z+8rMsqN/Z6Ycc7OZLTazhWbWbm9+AyIiIiLFReld2GcrcIO7f2RmlYBZZvZG9NwQdx+curOZHQ90A+oDvwYmmdmx7r4tzoKLiIiIFDcF1li5+yp3/yj6egMwHzgin0POBp5x95/cfSmwGGgWR2FFREREirPd6mNlZrWAhsC0aFNvM5ttZiPNrHK07Qjgy5TDVpBHEDOzK8xsppnNXLt27e6XXERERKSY2eVgZWYHAs8Df3T374F/Ar8BsoBVwN8Su+ZxuO+wwX24uzdx9ybVqlXb3XKLiIiIFDu7FKzMrAwhVI1x9xcA3H21u29z9+3ACP7X3LcCqJlyeA1gZXxFFhERESmedmVUoAGPAvPd/YGU7dVTdjsXmBN9PRHoZmblzKw2UAeYHl+RRURERIqnXRkV2Aq4CPjUzLKjbbcAF5hZFqGZbxlwJYC7zzWzccA8wojCazQiUERERPYHBQYrd3+fvPtNvZLPMQOBgXtQLhEREZESRzOvi4iIiMREwUpEREQkJgpWIiIiIjFRsBIRERGJiYKViIiISEwUrERERERiomAlIiIiEhMFKxEREZGYKFiJiIiIxETBSkRERCQmClYiIiIiMVGwEhEREYmJgpWIiIhITBSsRERERGKiYCUiIiISEwUrERERkZgoWImIiIjERMFKREREJCYKViIiIiIxUbASERERiYmClYiIiEhMFKxEREREYqJgJSIiIhITBSsRERGRmChYiYiIiMREwUpEREQkJgpWIiIiIjFRsBIRERGJiYKViIiISExKF3UBRPZVy+/OKNTXO/L2Twv19UREZEeqsRIRERGJiYKViIiISEwUrERERERiomAlIiIiEhMFKxEREZGYKFiJiIiIxETBSkRERCQmClYiIiIiMVGwEhEREYmJgpWIiIhITBSsRERERGKiYCUiIiISEwUrERERkZgoWImIiIjERMFKREREJCYKViIiIiIxUbASERERiYmClYiIiEhMFKxEREREYqJgJSIiIhITBSsRERGRmChYiYiIiMREwUpEREQkJgpWIiIiIjFRsBIRERGJSYHBysxqmtlkM5tvZnPN7LpoexUze8PMFkX/V0455mYzW2xmC82s3d78BkRERESKi12psdoK3ODu9YAWwDVmdjzQH3jT3esAb0aPiZ7rBtQH2gMPm1mpvVF4ERERkeKkwGDl7qvc/aPo6w3AfOAI4GxgdLTbaOCc6OuzgWfc/Sd3XwosBprFXG4RERGRYme3+liZWS2gITANONzdV0EIX8Bh0W5HAF+mHLYi2iYiIiKyT9vlYGVmBwLPA3909+/z2zWPbZ7H+a4ws5lmNnPt2rW7WgwRERGRYmuXgpWZlSGEqjHu/kK0ebWZVY+erw6sibavAGqmHF4DWJn7nO4+3N2buHuTatWq/dLyi4iIiBQbuzIq0IBHgfnu/kDKUxOBi6OvLwZeTNnezczKmVltoA4wPb4ii4iIiBRPpXdhn1bARcCnZpYdbbsFuA8YZ2a/B5YDXQDcfa6ZjQPmEUYUXuPu2+IuuIiIiEhxU2Cwcvf3ybvfFEDbnRwzEBi4B+USERERKXE087qIiIhITBSsRERERGKiYCUiIiISEwUrERERkZgoWImIiIjERMFKREREJCYKViIiIiIxUbASERERiYmClYiIiEhMFKxEREREYqJgJSIiIhITBSsRERGRmChYiYiIiMREwUpEREQkJgpWIiIiIjFRsBIRERGJiYKViIiISEwUrERERERiomAlIiIiEhMFKxEREZGYKFiJiIiIxETBSkRERCQmClYiIiIiMVGwEhEREYmJgpWIiIhITBSsRERERGJSuqgLICIihavVg60K9fU+uPaDQn09kaKkGisRERGRmChYiYiIiMREwUpEREQkJgpWIiIiIjFRsBIRERGJiYKViIiISEwUrERERERiomAlIiIiEhMFKxEREZGYKFiJiIiIxETBSkRERCQmClYiIiIiMVGwEhEREYmJgpWIiIhITBSsRERERGKiYCUiIiISEwUrERERkZgoWImIiIjERMFKREREJCYKViIiIiIxUbASERERiYmClYiIiEhMFKxEREREYqJgJSIiIhITBSsRERGRmChYiYiIiMREwUpEREQkJgpWIiIiIjFRsBIRERGJSYHBysxGmtkaM5uTsu1OM/vKzLKjf2emPHezmS02s4Vm1m5vFVxERESkuNmVGqtRQPs8tg9x96zo3ysAZnY80A2oHx3zsJmViquwIiIiIsVZgcHK3d8FvtvF850NPOPuP7n7UmAx0GwPyiciIiJSYuxJH6veZjY7aiqsHG07AvgyZZ8V0bYdmNkVZjbTzGauXbt2D4ohIiIiUjz80mD1T+A3QBawCvhbtN3y2NfzOoG7D3f3Ju7epFq1ar+wGCIiIiLFxy8KVu6+2t23uft2YAT/a+5bAdRM2bUGsHLPiigiIiJSMvyiYGVm1VMengskRgxOBLqZWTkzqw3UAabvWRFFRERESobSBe1gZk8DJwOHmtkK4A7gZDPLIjTzLQOuBHD3uWY2DpgHbAWucfdte6XkQOO+j++tU+dp1v09C/X1REREpGQpMFi5+wV5bH40n/0HAgP3pFAiIiIiJZFmXhcRERGJiYKViIiISEwUrERERERiomAlIiIiEhMFKxEREZGYKFiJiIiIxETBSkRERCQmClYiIiIiMVGwEhEREYmJgpWIiIhITBSsRERERGKiYCUiIiISEwUrERERkZgoWImIiIjERMFKREREJCYKViIiIiIxUbASERERiYmClYiIiEhMFKxEREREYqJgJSIiIhITBSsRERGRmChYiYiIiMREwUpEREQkJgpWIiIiIjFRsBIRERGJiYKViIiISEwUrERERERiomAlIiIiEhMFKxEREZGYKFiJiIiIxETBSkRERCQmClYiIiIiMVGwEhEREYmJgpWIiIhITBSsRERERGKiYCUiIiISEwUrERERkZgoWImIiIjERMFKREREJCYKViIiIiIxUbASERERiYmClYiIiEhMFKxEREREYqJgJSIiIhITBSsRERGRmChYiYiIiMREwUpEREQkJgpWIiIiIjFRsBIRERGJiYKViIiISEwUrERERERiomAlIiIiEhMFKxEREZGYKFiJiIiIxETBSkRERCQmBQYrMxtpZmvMbE7Ktipm9oaZLYr+r5zy3M1mttjMFppZu71VcBEREZHiZldqrEYB7XNt6w+86e51gDejx5jZ8UA3oH50zMNmViq20oqIiIgUYwUGK3d/F/gu1+azgdHR16OBc1K2P+PuP7n7UmAx0CyeooqIiIgUb7+0j9Xh7r4KIPr/sGj7EcCXKfutiLaJiIiI7PPi7rxueWzzPHc0u8LMZprZzLVr18ZcDBEREZHC90uD1Wozqw4Q/b8m2r4CqJmyXw1gZV4ncPfh7t7E3ZtUq1btFxZDREREpPj4pcFqInBx9PXFwIsp27uZWTkzqw3UAabvWRFFRERESobSBe1gZk8DJwOHmtkK4A7gPmCcmf0eWA50AXD3uWY2DpgHbAWucfdte6nsIiIiIsVKgcHK3S/YyVNtd7L/QGDgnhRKREREpCTSzOsiIiIiMVGwEhEREYmJgpWIiIhITBSsRERERGKiYCUiIiISEwUrERERkZgoWImIiIjERMFKREREJCYKViIiIiIxUbASERERiYmClYiIiEhMFKxEREREYqJgJSIiIhITBSsRERGRmChYiYiIiMREwUpEREQkJgpWIiIiIjFRsBIRERGJiYKViIiISEwUrERERERiomAlIiIiEhMFKxEREZGYKFiJiIiIxETBSkRERCQmClYiIiIiMVGwEhEREYmJgpWIiIhITBSsRERERGKiYCUiIiISEwUrERERkZgoWImIiIjERMFKREREJCYKViIiIiIxUbASERERiYmClYiIiEhMFKxEREREYqJgJSIiIhITBSsRERGRmChYiYiIiMREwUpEREQkJgpWIiIiIjFRsBIRERGJiYKViIiISEwUrERERERiomAlIiIiEhMFKxEREZGYKFiJiIiIxETBSkRERCQmClYiIiIiMVGwEhEREYmJgpWIiIhITBSsRERERGKiYCUiIiISEwUrERERkZgoWImIiIjERMFKREREJCal9+RgM1sGbAC2AVvdvYmZVQHGArWAZcD57v7fPSumiIiISPEXR41VG3fPcvcm0eP+wJvuXgd4M3osIiIiss/bG02BZwOjo69HA+fshdcQERERKXb2NFg58LqZzTKzK6Jth7v7KoDo/8P28DVERERESoQ96mMFtHL3lWZ2GPCGmS3Y1QOjIHYFwJFHHrmHxRAREREpentUY+XuK6P/1wDjgWbAajOrDhD9v2Ynxw539ybu3qRatWp7UgwRERGRYuEXByszq2hmlRJfA6cDc4CJwMXRbhcDL+5pIUVERERKgj1pCjwcGG9mifM85e6vmdkMYJyZ/R5YDnTZ82KKiIiIFH+/OFi5++dAgzy2fwu03ZNCiYiIiJREmnldREREJCYKViIiIiIxUbASERERiYmClYiIiEhMFKxEREREYqJgJSIiIhITBSsRERGRmChYiYiIiMREwUpEREQkJgpWIiIiIjFRsBIRERGJiYKViIiISEwUrERERERiomAlIiIiEhMFKxEREZGYKFiJiIiIxETBSkRERCQmClYiIiIiMVGwEhEREYmJgpWIiIhITBSsRERERGKiYCUiIiISEwUrERERkZgoWImIiIjERMFKREREJCYKViIiIiIxUbASERERiYmClYiIiEhMFKxEREREYqJgJSIiIhITBSsRERGRmChYiYiIiMREwUpEREQkJgpWIiIiIjFRsBIRERGJiYKViIiISEwUrERERERiomAlIiIiEhMFKxEREZGYKFiJiIiIxETBSkRERCQmClYiIiIiMVGwEhEREYmJgpWIiIhITBSsRERERGKiYCUiIiISEwUrERERkZgoWImIiIjERMFKREREJCYKViIiIiIxUbASERERiYmClYiIiEhMFKxEREREYqJgJSIiIhITBSsRERGRmOy1YGVm7c1soZktNrP+e+t1RERERIqLvRKszKwU8BBwBnA8cIGZHb83XktERESkuNhbNVbNgMXu/rm7/ww8A5y9l15LREREpFjYW8HqCODLlMcrom0iIiIi+6zSe+m8lsc2z7GD2RXAFdHDjWa2cC+VJTY2+OLCfslDgW8K+0WlhLrDdL3IrirUa8X65PWRICXIvvveYr/42jxqZ0/srWC1AqiZ8rgGsDJ1B3cfDgzfS6+/TzCzme7epKjLISWDrhfZVbpWZHfoetk9e6spcAZQx8xqm1lZoBswcS+9loiIiEixsFdqrNx9q5n1Bv4DlAJGuvvcvfFaIiIiIsXF3moKxN1fAV7ZW+ffT6ipVHaHrhfZVbpWZHfoetkN5u4F7yUiIiIiBdKSNiIiIiIxUbCSvc7sl49nFdkZMytjZpWKuhwiIqkUrGSvMrM0j9qbzayBPgglDmZ2GHAHYX4d2QfoBkz2hmiJvcJ9TfWxkr3NzI4G2gPtgEvd/dsiLpKUYGZWyt23mVkF4GCgtLuvKOpyyS+T+H1GX5vrQ0n2AjOrWlifPaqxkljlvjuI7kJnAScDnRWqZE9FoepXwBZgBHC6mZUr4mLJL5QSqq4EHjKzRmZ2QBEXS0ooC9JSHmeY2WxgpJldVRhlULCSWKW8SXY0s4zo7vNPwMnRB6KuOdktiSaiXNfOe0A94AmgcfS1lABmdpCZHZLy+EgzewloDkwDbgTOK6LiSQmW6Hri7tvNrKaZnQKcCNwE3A+caGYX7e1y7LV5rGT/ZGYNgEeBhcB6M/vc3QebWT8zu8rd/5la9S+yM4lmoZSmoarA2ujr54BDgBeBUwlvmMvcfV2hF1R2WVSz2AlYaWZfA78iLHd2HzAV+AeQAaSZ2cfuPqfICislRsp7xfboBuwy4DpgNVAZOA1YB/wa6GFmL+3N9wrVHsgvlkezXxpwCnC9u/cAGgENo6evBgZEdxTb1FFVdiZRlZ/a18bMLgDeMrO60abqQC13/4mwXFYW4XqTYihR2xj9vtKAfwL/Bo519wXAR8AYYA1wVnSYaq1kl6QMkCoLDAIuc/f6wPnAZuA4d99KqOleDvTbm+VRsJLdlvImuc3MSplZKzM72N23A0cAA81sGvByFLBw98nAUmBY9FgdVCVPKXeeR5jZXWbWFBgL/B34UxSyniXUfODuLwPbgEwzK19kBZcdmFlaVJuwPWXzMmAD8Ji7PxJtOwo42t3vdPflQCWgmZnVL9wSS0kTXWO1zOzv7v4zMBM4wsyOcvdvCAH+92Z2iLuvih6X2Zv9MjUqUHZZ7hE7ZnYmcA/wHbAVuJtQa9CJUGs1L9rvUkLTjQGl3P27wi67FG9mdgZhdN9L0eMrgCuAJ4HjgDR3v9LMjifUbMwAtgNXRyHsMHdfU0TFl1zMrKK7b0p5fALh9zmO8LurDlwPPAO8Fa0vuwh4ndBf7iNgqEZ7Sn7MrHRUE4WZbQPaufskM/s78KO7949GD78CPOHuI1OP2VtUYyUFyt00E9VSXQX8mVDlehph5N9phEW3ZwC3mtkpZjYJ+B1QDvje3b9TB3ZJFVXfnwScYGZHRpsPBtoS7j4bAj+bWdkorF8G/ASck1ITsjY6l66tImZmXYBOUU1CGTO7A3gAeBPoCPzJ3T8l1Fy1BhIjADsC2cBod79RoUryY2btgD5mdkS06Srgwejrp4B6ZtbK3X8ERhKaBEkJYnvtvUJvQlKglKaZ6mZ2R9TxfAVwEFAz2u0JwmSN8whNNvOAi4FR7n6mu69NBLNczQKyn4uq758lfMD+NtrcDZhEGM1zm7tfy/8+gD+OHk83sybROXRtFTEzO9PCxK2TCE23hxGaaGcCLQm12u0ITbbnE6bK+BUwysw+J9RYjnD30UXyDUixlGvqBDOzltGN/beEkaT1ANx9OLDdzPq4+zRgNvDH6Lkn3P2p1PPuzfcKBSvJU+7O5WbWl1BNXynqtD4NGAW0jKpWFxLeJGtHIWqgu1/s7k9Gxxf67LdS/JhZaTO7yMw6R48rmNl9hKC+EGhkZtWBh4Bq7t4xqtqvDNxsZnWikH8MUJ7Qb0+KmJnVAToQarD/C/wBuBU4zN3/HT3uBpwJvEOoxf6ZEJwnAKdoBKDkJTUARTdQPwK93H0mMAc4Kbr+IIT1B6Ja8H8CAyDHlC2FMmhKwUpySOlsmtqX6nCgPtAqqqLfBvyXELQygL+a2cnAMcCS3OeD/81vJfu9ioQBDqeYWUXClAnHRP2jJhH6TZ1H6Fv1tZkNNbPBwPvARv53fZ1HaDZSf70ilPL3vQj4ADg6Cr1TCb/LNtGupwHDohuwSoQ+Vue6+3fu/ri7Lyv0wkuxZWalo//Ton9/NbNjzawM4W9+loVJZJ8ltJqcGjUJOqGmKsvdV0YjTlNrtAulU7nmsZIcEncHFuajakDobLoWyCTMXPtfoAahWv9KQrjqSGgWvNrdP8zrfLL/iu4Szd23u/t6M3sFuJxQa7ER+ALCh7OZzQRaAHUI11VzwgR/Hdw9tXbqAXffUpjfh+woqj2sRJh88VDgSKC7u98ddVhvamb/JjQHDjKzTwjvHze4+/QiK7gUS2Z2tru/mNK5vIq7f2NmPxDmpVoGDAFOAA529wVm9iKhP+bNhFHnTYv6Rl6jAiWHaATF3wij+6YAZQh9prYQwtVSQtB6BuhPmHTtYuBLD5N/Gmg6BdmRmWUA5xLmmTmfUJtRE3jY3cdH+xxMeIMEGBQ1KyWOTyPq8leoBZcky2NyXzO7Fshw9yvM7BagLvA4oebgZmC+uw83s7Oj54ZFHYpFcjCzb4BewJeEz5iFwOvu/nBUI/UC8BfCjdmYRL+pqCbr0Gg6hTyv08KkpkDJrSmQ7e4tCBOptQf6At9GQ+GXE+4OKhBGWSwmNM80NbPqUUd3ffBJDmZ2FzAa+NnDJJEfEpqTjwVuNLOxZtaDUFP1b8IcaDlCVVTjpWuriES/g8SSVVVS+qu04n993UYQaqfOJjTZTCf0wzwuqokYpFAlqXL1v+3N/268riXUhJ5uZhe6+1fR800Ja89uSRzv7lvcfVVKVxbVWEnxESX/RMe/gwjL03QlfNg9B7wEfE8YqfVZdMzhhA/M/+Z5UtlvJAJQrm0HE4ZB93X31SnbOwGnE5al2Rh9XRq4XQGq+Ej9nUadhB8khKbP3P1OM+tGmDbhNnf/r5n9gbDSwhDCnGO1Eu8VInmJWkpOdPc3zGw8UM7dz4w6oXcizIF2jrv/EO3/MHCIu3cvulLvnGqsJIeo38qRQAV3PyeqpToauJQwCutKdz/f3T9L3Gm4+2qFKoEcffRamFnbqFajHKHzMtFzFaIvZwHfAOcA0939LncfoFBVPKR0TN9uYe662oSg9DCh5uAGC7Pgf0mYV+zu6NAawKuE7gE/K1RJfszsYuATwpQcECadPtbMDvUwFcvbhH6Yt6Uc9hDwXXEdba4aq/3E7rQ5R6O11gOdCdWu1YCxHpalSeyzQ82ESDRS53HCYqffEqZR+D/CUPxS7n57tF86YYHU6gDuPjsxGlXXVvFiYc6pawmTuB5GGCF8D6ErwAbgFmAToS/mr4BPgesStQsikHMQS8q2WoTWketSA7iZjQI2u/sfooDfhrCG5M3AgYT+V9Pd/dbC+w52nUYF7uMSH1YpfSNaAV/4TmY1juak2hRV759NqNW81t03pu6nDz6BHZc5InRO3ujuLc3s14RpEfoRZul/zszWEGo0fgdc4+7/SRyYMiRa11YxYGYHEeYBOgr4QxR6fyaErBvc/UMzm0No9rse6EIYqfVNkRVaiqWUmyU3s6ru/m30VBVCQE+snFDe3TcDNwCfmFlrd3/PzN529zcT5yJ0K8gu/O9k16gpcB+Ve3SemWWZ2X+AgcDzZnaaRYtQWsrMtolhru7+HHCVu1/i7htNS4VIxMyOM7PhEK4vMzvLzBpHT1cHmkVffw38hzA1xzrCaJ+thBnUm6eGKimWShFGBae7+9xoW2nCXGQVov4vywhNvQdFHYgVqmQHUXNympn9GXjLwuLqHQgDWLYRaqFw980W1v38ltBxvUa0PVExUMrdfyzOoQpUY7VPyt3sZ2YdCVWoj7r7o9Hw6HaETur/TvShyN1UGLVvq9lPgBy1UwZUMbObCMtJHAekmdlAwiiwWWbWw93HmNlawpvmT+4+lTBxZOJ8RTokWvL/HUQd0R8B6phZJ3efSAjG4wk1kAcRFkp+tPBKLCWBmVUB6rr7lOhxZeBGQub4LaEm9G7CPHXLgFsszG9XAbjCzO5297/nPm9Jeb9QsNoHufu2qIapP6F/ywrCh2FigdsnCVX3RwCY2TmEhW7v2Mn5FKr2c7k+gBcTrqG+wPPu3isaCdaG0DdvDPB/ZvYdoSlwK9HQ6JTzpZWUN8l9Verv1MxOJ3Qg/tbdt6Y8twx4HuhhZq9Fg1T+aWazgUUeZswXya0KcJqFFTl+BTxN6HD+M/Avwk3914SA3o9Qm30BIazfnghkkGd3g2JPzTv7gNzNdFEV62xCbUIaYUHkR4HDzKx29Ob4PZAVHTKJ0PFUJE8pH8C3A+nAZMKIvqxol6cJ4b2Ru79G6IfTCljj7uflHjWqsF40zKxGFIITN2CNzOx1Qp+W64nWViMsR0PU3+VNQjj+U+I87v6BQpWkyjVC71vCTdW1wAJ3n+ruK6Ntq9z9XMJN/+8Jy8+MJKzc0cHdpyS6skDJnGxawaqEi+4sE0PcD442nwr0dPeL3P1rwgfeG4QaygfNLJMwSuvT6AL+wd2/S72YRVKZ2Ylm9jGhc/p6d19PmKH/EDNrHD1+FWhmZme5+3h3v83db4mOL5bDovcXUUd0gFqE2qdEP7i2wGDCjPg1gUuj36dbtF4b8BVhwXUtQSN5imqVEjdf/Qj97h4gLIn2XbS9HKFlJDH67zeEiYLTAdx9XbRfqZIYplJpuoV9gJn9CrgL2ODuN5rZBEJo3kC402xCmCvoeKAPsAZ4zt2fL5ICS4ljZn8EvnL3Z6PHhxJWmb8WqO3uV0bbryL021sePdYSR0XMwqS/rwLPuPv/RX3jjnX330fTY6QTmmfGEj4QW7j7GdGxJa4ZRgqHmR0LnAn8I2o+/i1h8tgFhG4CKwgjRU8F/u7un5pZ1+jx6YTJpm929w1F8g3sRQpWJZyFxZKHA08BT0Q1T9UJYeprwlpLDwHvEPpKXAlU8mj+D3UgloT8PkTN7D5C03IZQg3GKYRQtZoweudv7v7vwiqrFCz192lmnQkfdq0JNVP3E+ame9bMegNl3f0BM/sd8ARwubs/WVRll+LPzI4jjOr7PhrNdy/whkfzHZpZeaAy4X1iE2HuqXqEJY8Odfc50X773M2XmgJLCIvk8VQ1wlD2/wOOM7MzCUOfXwLmEKpejyY03/yX0PfqSDNrAiVnlIXsPfa/GbZ3eGNL6b/3Z8IaXjcR3igfI/SNmEWYIPI/KceoSbmI5W5OcfcXCOt8DnD3pYQlqi6IarN+A1Q1s5MIs1//hf8114gk5erPu4IwEfDDUVPzIUB/M3vGzEYQPn+qEq61RsBbhEmCv04JVWkeKczvY29TjVUJYDnX6qoNLM81ncJ7hLXWFhEWsT3O3Y+2sJ5SXeAv7v5GtG8lQvD6qrC/DyneopFhLdz97nz2KU348L2b0OR3f8pzajYqRqK/9QsInYffNbOGhFnxzyLUNDxI6Jj+JmGSz86EJpt/FVGRpYQws56EZar+TZgy4RPCaOB2hMk+5wP3EZY1+ouF9WT/m5jCZ1+nYFVCWFhmpitwDXCeuy9LBC4zO8jdv4/2K0Vo8vsdcIS7f5FyDs1HJcAOzUQHEWopHJjo7q/nc9zNhA7PQ9T0V/wkfq8W5q67G3iW8Pt6hdAl4Haghrv3NLMzoscXRO8nZTysFSoCJAdEHenun0aPawOXEG7g+7j7WjPrQghUD7n7x9HNV2NCsHrSw9yJietyv+h6onmsiqHcASiqfh0OHAOcEo3ASh2y/mP04fhHQqAa52EG9S+i40u5+zaFKkm5FnLfUZ0FvOLur0dvjDn2SbkmR7r7X/LYLkUganZNrr+W8jurR7gJmwNcRJgRfzswDHjRzE5z91fN7Ajgh+hYhSrJ7UignZm1JDQZjwdqE5r4EtfaTELLyDnAx4R1JFsDg919AuRYrmqfD1WgYFUspTT7NSUsRPmpmT1JGLpaJnoumfzdfYuZ/YbQl6qLuy/Mdb794mKWgqUMif4jYWmZGe7+hpndQjRBbBTKifar7O7/TfngXh1tV1gvYinvAW5mdQgffNmEAQVHEKbDcOC2lBHAX5vZs0BPQkfj/yv8kksJspTQRHw04aZqatR6chFhxYVv3H2pmU0HLoum8Rji7jcnTrA/3nypKbAYiqZPGE4Y+rwWmEJovx5MWOD2+gJGcKURbhL0y5XczX5HEkaQfkYY/TUeONHd55jZWEJ/nDuiYfh9gI8IH8C6loqh6G/9fMIaoDMJM16fDVxHGLhypYelaSoTlrW6j9DXRb9PyWFnnylm1geoD7zo7q9E2/5GmAR0tLt/ZWbVgAbA+x4mld2vR5xrVGARs7wnTuxI6BjcjrDO2jlAJcId6Elmlhm1V+/w+0vcHeiNUxKia+VgMzuV0Gl5AGGW7faEGo0/R7sOIowUq+PuPwBPu/vrupaKh9S/92iQ8EHARMJkv23cvSvwJeH3ORzYDPzDzPoSRmRVIkwGrN+n5JAYnZfXc+4+jNA5vU00AALCTVkj4ITo2LXuPikRqqLj9stQBQpWRSZl7o5E00xGlPoBygMdzex9wmSe57v7CsKcVP8hfADmuSzI/lblKrusJ3Cqh8n4ZhPeGL9z98pAYzO72N0/Al4g9M8hdeCDFC3LucLCMUD5aMDKZMK8VIluHbcSbsyqEease5VQi3W5u1+V+sEnkjLVynYzO9LM7jazdDMrGz2fuK4mE/JC46gDO8D7hBpufebkoqbAImZm6cA/oocHABcTZqbtBDzg7q9G+50LzCLUOBzu7ouLoLhSgkTX1qaoD8TphGk3GpvZYcA/gWvc/Wsze5vQ7NwW+FE1GsWDmR0CVHf3+dHjXxE6n/+K0Oz3FCEkv0SooXrRwwzYtwJd3T2zSAouxV4eA6TqECaN/ZmwkPo8dx+SqxvBOYTQ3hno7e5jCr/kJYOCVSHK3eZsZhcRplAY5+6PW5jd+ifCRH7HE6ru/0lY/PR44MKUN1nNGSQARB1GF7v7dynb6hCa+6oCl7r7JjN7GhhKmDm9P6Fm9FeEwP6s78MzIZdEFmZE/8DDEPYqhCkxprj76Kg2exlh8eQWQC/gj+7+RVTLcIm7j9gfOw7LrjOzHoQRwT8Sup+8EN2EXQv0c/f5ZlY6MaAlCvdb3f2b6LE+h/KgpsBC5GE1eTOzqy3MD7IOOAyoGO3yV8IiqV8ROqp/SXjjXOzujROhKjqXLmZJOJEwA3KSuy8iTL/xPTDEzFoRljjaFDUr30/4YB7r7ndEndeTgUrXV9GI3h9KAbj7P4CNZtYuCs23ArMsTAj8DeH9o7u7vwiUIiyuXMbdt7r7iOgcClUC5OzPa2bVzexB4LeEbgEnEkb+QVhseybwB8g5StjDrOnfpFyjep/Ig4JVIbIwad9cwjp+ZYG3CX0gKpvZEdGb50qgnbuvcvd7CLUNd0XH59XRXfZTKUHoAaC+mZ0SbS8dbf8Z6E0I6p0JtRonRs994e5/dvcnomN22nlVCk+UabeZWWZUo30VcK6Z1Y1qCboBj7j7OYT5p7qaWWPCDdiLrrmoZCei6+qQ6OHRhNaSt6PuJgOBFmZ2pLuvIwyKyDKzNjs7VyEUucRSsNoLUu86U7YdTFjp+1x3vzQaRbEBeJEwlPV2Mzue8ME3JXEed/85Op/pYpZU0Wi/xmZWl9BB+dFoe6LaPs3dfyLUTk0mNP0dlHqOlHCmmo0ikuhAbGZpZlbRzK4h1BasBO4idEw/Mdr9OKBV9PUhhPcKd/dF7j63UAsuxV7i7zvFZDO7xd0/IKwv2xHA3R8HtgDnR9fjPKAf8E5hlndfoWC1F6TcdR5qZl3MrIKH2dJ/DQw1s3+a2WNmNouwptL7wFGEeWb+5e7PJs6Tcj7VJkgOFtaC6w4c6+7/BDZF/XKI+kUkJvX8wd1fBtLd/a+p59B1VXRSR2Sl/F8deAD43t3fjN433gBaRjdeNwHHm9l8wojhvh5Gc4oAoX+lmf3RzMpGN191LcxfB2F+s2stLL49HChjZt2i54YTarFquvtP7j7Nw2hBLaq+m9R5fS+xMLP1lcAHhA7pDxImVOsAfE5YMHlU9G8qocp/sbsPj45Xp1MBcg56MLNywMnAu+7+o4VV5Fe7+21RU+BYwqjR7Tu7hnRtFS9m1okwV93TwCRCs14bdz8rZZ+/E0YEDyLMbWfuvqbwSyvFVRSeNhK6maQRgvdBhIW3nwTGu/tPZjYBWOvul5tZL8IEs+e7+0YLc9gtKpJvYB+iGqu9IOrzcBCQTrigzyasHn+Auz9GqKGqRRjivsrdlxI6Ejcys+NATTOy41xnkUzClBwPRY9HAbXNrKK7v0UI6U9Gz+1swj9dW4Usas2vaGb3JP7Go21/Aa4gLJJ8EWFyz6HAMWZ2WsopJgIVgApRNwKFKkmyMFnsdcBAd/8aOJzQNWAb8BxwAqEZGcJnUU8L86E9T/jsOQaSg15kDylY7YE8+lElPghnEUb43Up4o7yXMEdVm2ifx6Pn/+Luk6PDnwP+6rnW+ZP9V6KZzszONrOJFmbQ3gb0AMqZ2e2E2dPnuPum6LCroudKq5mv+Iha8zcBGcB5FiZgrEg0GTBhsdssIDvqIzcYuCflPeVNd7/JU6bUEEm5Pr4n1HhWN7MsQuvIOsJgh6cIU/c0jw5bQxhx/nDUz7e3u2cXasH3cWoK/AWijuSJD72KhEn8Fufa53DgMXc/M3r8LmHoe28gzd0/z+t8sn8zs0GEGdEHRW+a5wCXETqSXgnUAS4FtgMtCTVXPwON9KFb/NiOc9c1AIYA/d19upl9QBih9SRwr4d1/Wq4+wozmwn8yd3fLZrSS0lhZu2BM4Bjgc/d/RozO5vw/nEPYXb+XsBWwqz8LxO6E3wWHa/PoBipxmo3pHQ2TYSqawgzH//WzCqk7uvuqwmdTK+3MAnbd4Sq2RWJUGWaC0QiUWdSgNeBS83s0Oi6OIZwx9mAMDP6OA9Tcax29/GEwDWNUBOSej5NzVGEzOxQyLFkVY2oFvET4EPg4ujm63nCkPe+UajqCPSN+tK1VqiS3FJGkVr0f0tCC8hLhD69dcysM/AaYbLpi9z9HeBOQk3WSHf/P3f/LPdnmsSjdMG7SILnXAKgM3Au0DIKUaQ8l5ip9gJCu3dF4IbE3UHK+TR9wn4uGrnzs0fzD7n7m2b2DuEu8ypCbdRQwhp+J7j79xZm4S4XBawnLSx3tD46n0XNTrq2ikD0YdcZaA380cyOIgxcKQXMNbO7CR+CLxAWsf030NzMXgCMMCpwoIdpMkSSUv62cw9MOQl4w90nmdkMYAGhv96/CTdq15vZWe7+b8KKC6nnU3/LvUDBqgCJizlK9gcAQ939sujpBcAVZvYt8Btgkru/6mG9LnP3qWY2J2rH1lIhkhRdCw8B083sKaAM8HfCLMgDgKlmlkGYUHY8YfLH7y0sN3EjcIuZrSF8EDcnLF2ja6uIRe8VvwGIAvBDwGhgAmEk8M+E3+/jhIWxewOXEAa61PUwn5DIDlJaSq4EOkZNxeMIc9QNtmhaHzP7hjB9z1XuPjRqTfkgcZ6UgKb3ir1ETYEFSFx87r7d3TcCp5rZtYQ3yi8Io/9+IozwOyeq3k89LhGqSuliFgjNftF1MJMwYrQaYQh9eWBmVAP6BHAHYQTpa8CgqFbjXuBRd58Z1UodANzo7m8WwbcigIV5glK7ArxG6NvyPXAhsIIw0eKnhBuwdu4+irCc1YWEha+nK1RJqmjUaFqubd0Jc00NItyM3UG4jt4j1HITbf8EqBG910xy9x8T59Bn0N6nzuu5pDTjJR43JCxS+byHBSmbEKpXj0qEpmi/a4Dm7t6z0AstJYLlMX+UmT1JmLuoNPArd/9zSi3pJ8A97v6cmR1BmLjvw5Rj1eG0iEV9qSYQwtRfPEwMfDAwDPgXof/bvwiLXP/HzCZGh14C1CCEqs92PLPsz1LfK8zsAHf/Ifr6SeBld38mqhE9H6hHGEU6kRDijwIud/dpRVN6UY1VxMxamFll/99yIIdFT20kDINOj6paZxKC1b+i/dqY2WTCiIy/FX7JpaRIeaPsaWbjLcxn9A/Ch2xP4KioT0756JBBwF+jN9mvEqFKgx6KDw/r910GNARGRIMQthFqEbZFtYp1gNrRIZsIHYoPcvdPFKokLynvFbcA/zGzG6Obq8mEvr14GAX8PVDK3b8kDG653d0zE6Eqd42XFA790P/nekLzC2Y2BnjNzK4irNf1PNAGqBvt+w+gm5nVB5YShkl3cPdPEv2oRKKqfEv5Os3MbiIMe77f3RdGYWkSYbbkjYR5zyZYWHl+LNA+dy2XOqYXL+6+ALic0M/tL4Q5g6YTJnKFsFbjRWY2j9DU29vDpMAiwI4ByMyam9l4wk3WrYQJP4cQlkDbamaJfr61CP32cPfv3P3j6PjEzZc6pxeB/bopMLr4EqMsygNLCFX6HxI6mp5HmEjtb4ROqMsJ882cTJhT6CF3fyr1fPrQE9j5tRC9Wf41GthQ1sMi278ihPq7gY8JUysc6O7/iY5Rk18JYGbHEkYEdiOMBGxMmIdqs4V1/r5xzZguueRq9isVNSe3J8zG39LdP4zeI/4IrAI+IqwnuY5wQ3aNu88pksJLnvbbYJX6YWVmLaKL93LCXcGvPKybdCqhdmEQYWK1noSOg68AN6f2sRLJS1SVv40QmN4kXF+TgYmec+LIfkATwpwzGmpfgpnZA8DvgHXunlnU5ZHiz8yqArcDG4CX3H2amT0O/ORhTT8jrCFZ1t3vjfav6ZoxvVjab4MVQHQX+RAh+f/J3Zea2TLgbncfaWbVCXNR1QOujGq2jvb/TfCZRrRaRdF8B1Jc5O6YnjLU3oG3CFMk/BE4nXDXOcndPzaz84BD3P1RM6vm7msLv/QSh5RBBxUISw1Vdff/K+pySfGSuzbbzGoS1vx8jzDC/ERgJJBNaEHp4+6vRl1UPnL3v+V3Pil6+808Vju5+PoR5gcamrLtD4SLfKS7r4rmCqlJ6Hy6xN0/j+4eNLmaEI0A+zkxnDmlJvQA4FdA2yiQpwHNCG+UzYBhZrYBOJgQuHD3tXmNHJSSIXGDFV0L44u4OFIMRe8Pidn46wMLgV8Dpd39zmh7T6ApYaqV54FRZvYsoU/007nPqVBV/Ozzndftf1P2Jy7mKtH/lQkdA9+MHpeLLvrXgGwzeyw6xTRCbdaSxDk90Ifffs7MWhD639WKrp+hwNVmVovQoXQFoXkPwrI0vyOsA/hnQpga5u6t3H1G4py6rkT2XVGN5jFm9hJhUEMNwkjRLy1M7QNh4MNvCRUfgwjdCBa4+wXuvlIDpIq/fT5YpXQKbGlmC4DhZnaNu/+XUKNwYLTfT9FFX5HQMb1C1Ln952i7LmYBcqzD9wmhqa8TYSbtMoSazbFRJ+UNhOVKqniYXHYuUS2xu8+KQrzW9RPZv9wJfODuZ7r7MsJo4OVAR0iOMv0vYdmq/xIGtlyXOFhdT4q/fbKPVaI5JfrAqkjoMPw1odPwZsJ6SYMIy4FcCgwH5kTbXnf3fxZJwaXYy6MvVUvgZuBrd7882rYo2jaLcK1VB6oAawid0zcVesFFpNDk8T7RGahMmELlceAP7r7GzMq5+09m1pzQOb0UkElo8rsz+hwrQxhENQrYqmBV/O1TwSrXsNXkDOpmNgX41t07mllZwjQKFwIdCCP9WhHmqHoxtWOgOgVKXixM7HkboXp+oJndRQhPf4kGQLQHhrv7kdH+ZwPr3f3tIiu0iOxV+U2LYmZdgJ7RZ9BC4GLPuYpCZULH9ebASndfWCiFlr1in2gKjOagSm32u44wyeIACwui9gKOj5pkfiZMyLgWGODuo4E+wGmJUJVo9lOoktzMrDWhv9RkwqLJEDqYHgBkWlib6zVgbdTnCnd/MRGq1Ownsu8xsxqEFToS/XUPMLNhZlYt6ue7jDBPIoQJph82s0ZmVjvqmN7R3X9w98nuvtDCZML7xOfz/qhE/+LMrK2ZvUVYGLlctO1y4ExCs96B0f/fAv8mzIpM9HgMcHBUzbolqo5NdHTfd6rxJG41CZPHjgUamFlH4HPgDeAU4Phov9MIfSlyUFgX2Se1I9xsJfrr/gBUIHQJ6EXoQ3Vy9PyDhM+jK4BxwCeeawFud9+ugSwlV4lsCoxqqP5GmNn4YcLFuR3YQhjm/E8PC55WJazjVYawKOp8oIu7T1Ezn+SloKk0osENUwh3n18R1oj7mfDG+ixhDcn/QHhz1PQJIvsHM5sBPJPS8lEWOJZQw30dcA9wW0rtdXmgjEcTTefXlCglS0mdx+oIoJa7t4AdZlH/iLCkxH/c/VszWwuku/v3ZvYIYc6Q1OkX9MEnQI5rwS0swl3V3eenPF/K3TeZWRsPC6AmFuv+h7tvMbM+7r489Zy6tkT2G9cCr5jZQ+6+mXCDNsfM/kgYOdwYSM53R5hVfbNpoul9TkltCtxMmA7hZDM7nTB30J1mdibwMnCQmXWN9v0N0cXs7ve4+3OpJ9IH3/4r0ZfOzM6BHH30BhAm5+tvZvcm9k+p4dwQ9Z0YBLxDNBdaIlRpag6R/U/UGf0t4J/R48TSVDMIo4P/Qxgwldg/MaHsdoWqfUtJDVZrgWeA0YQ+VEcDrYGLCP1cHgauN7O3CbNcj4YcH6T64JPEZH0VgWNTro0eQDV3PxZ4HehtZueaWemU47YQrrkqhJnV/5X7vIX2TYhIcXIF0DnqhoKZ/Y3Qn6o8MILQXUXvEfu4EtnHKsHM6gJfAOXd/b9mdhlQz91vMC1SKTsRhai0lObgisDt7n5TVC1/EGFW5COABcAxwNXuvmIn51NVvogAEE2/cj2hH+YXhFUWviWsBfiQu48outJJYSipfayA5Ay1EDX1AScBM6PnviVczJqPSpJS+uNtM7NDCAsgLzOz881svruPMrM6wK/d/czomA3AhWb2YO7JPdVHT0RSufsdZtYAeNjdX4dkX8wL3X1O0ZZOCkNJbQoEwiSg0Twgvc1sGmFkoBaplJ1KGeRwA/ARYU0ugGuAG6Paq81AJTNrbWFB1A+AxXnNmK5QJSK5ufs57v66BaXcfY1C1f6jRDcFAphZJtAbeCplGKuGrQqQ9/QJZtad0B/vAndfl7J9PGH9v3sJc89cRZiio6+7f1WIxRaREk612fuvEh+sUhU0B5HsX3JNw1GLsKjpQjO7kDCoYTWwntARfQywilCL1cbd55tZTXf/MnEuUKdTERHJX4luCkwV3R24QpWkhiAzKxuNzJkA3GpmVxMW3F5KmJn/J6AscKW7rySMID0qOj4RqhLXlkKViIjkq0R3Xk+lQCUJuQJQO+Bnd88yszsJo3XecfchiR3MrC9wXHTsTXmcT9eWiIjskn2mxkr2T1HnUMu17VAzu93MjgEOBiqb2auEmY/Pdfe5FhZJPcXM3gdaAoNTz1mY34OIiOw79qk+VrJ/sbCifDV3/zh6bInmP2A2cDZQD7gLGOTuT0X7nQYsBA4hLFszOfX4wv9ORERkX6EaKynJ2gFvA0Qd0q8ws6Pd/WfgecL6XG8CnwF1zKxR1Bz4D6COu89OCVVpClUiIrKnFKykxHL3R4FFZtYL+BioBQyNnl4GbPWwcvwgYCNwC2E29Zbu/mauc6kflYiI7DE1BUqJZmYnAC8BR7j7T1FfqsnAocBx7n52yr4Hufv30deajV9ERGKnGisp0dx9KvAOYYFTCIug/gjUB1qb2W9S9k2EqjSFKhER2RtUYyUlnplVIcxL1crd50Sj+i4Hqrv7XUVbOhER2Z8oWMk+IeqU/jt3Ty/qsoiIyP5LTYGyT3D3O4EVZlY1dbvmpBIRkcKkGisRERGRmKjGSvYpZlaqqMsgIiL7L9VYiYiIiMRENVYiIiIiMVGwEhEREYmJgpWIiIhITBSsRERERGKiYCUiIiISEwUrERERkZj8P30MHfpg69NIAAAAAElFTkSuQmCC\n",
      "text/plain": [
       "<Figure size 720x576 with 1 Axes>"
      ]
     },
     "metadata": {
      "needs_background": "light"
     },
     "output_type": "display_data"
    }
   ],
   "source": [
    "parks = df_observations.park_name.unique()\n",
    "species_list = []\n",
    "max_list = []\n",
    "for park in parks:\n",
    "    data = df_observations[df_observations.park_name == park]\n",
    "    max_v = data.observations.max()\n",
    "    spicies_v = data[data.observations == max_v]\n",
    "    max_list.append(max_v)\n",
    "    species_list.append(spicies_v.iloc[0]['scientific_name'])\n",
    "print(species_list[0])\n",
    "print(max_list)\n",
    "plt.figure(figsize=(10, 8))\n",
    "sns.barplot(x=species_list, y=max_list, hue=parks)\n",
    "plt.xticks(rotation=30)\n",
    "#plt.legend(parks)\n",
    "plt.show()"
   ]
  },
  {
   "cell_type": "markdown",
   "metadata": {},
   "source": [
    "## Conclusion\n",
    "\n",
    "Questions to answer:\n",
    "\n",
    "1. What is the distribution of conservation_status for animals?\n",
    "\n",
    "Among species about whom we have conservation_status, most of them(161) are in 'Species of Concern' group. Others are in much smaller groups, Endangered(16), Threatened(10), in Recovery(4).\n",
    "\n",
    "2. Are certain types of species more likely to be endangered?\n",
    "\n",
    "Yes, mammals and birds are more likely to be endangered than amphibians and vascular plants.\n",
    "\n",
    "3. What National Park has the most species in it?\n",
    "\n",
    "All parks have tha equal amount of species in it - 5824 species\n",
    "\n",
    "4. Which species were spotted the most at each park?\n",
    "\n",
    "The most spotted species is 'Lycopodium tristachyum'(plant), it located in Yellowstone National Park and was spotted 321 times."
   ]
  }
 ],
 "metadata": {
  "kernelspec": {
   "display_name": "Python 3 (ipykernel)",
   "language": "python",
   "name": "python3"
  },
  "language_info": {
   "codemirror_mode": {
    "name": "ipython",
    "version": 3
   },
   "file_extension": ".py",
   "mimetype": "text/x-python",
   "name": "python",
   "nbconvert_exporter": "python",
   "pygments_lexer": "ipython3",
   "version": "3.9.7"
  }
 },
 "nbformat": 4,
 "nbformat_minor": 4
}
